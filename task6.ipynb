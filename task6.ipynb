{
 "cells": [
  {
   "cell_type": "code",
   "execution_count": 1,
   "metadata": {},
   "outputs": [],
   "source": [
    "import random\n",
    "import numpy as np\n",
    "from matplotlib import pyplot as plt\n",
    "from scipy.stats import norm"
   ]
  },
  {
   "cell_type": "code",
   "execution_count": 2,
   "metadata": {},
   "outputs": [],
   "source": [
    "def sample_gen(n ) :\n",
    "    arr = []\n",
    "    for j in range(n) :\n",
    "        arr.append([np.random.normal(0,1.0) , np.random.normal(0,1.0)])\n",
    "    return np.array(arr).T\n",
    "def get_corr_sample(sample , rho) :\n",
    "    alpha = (np.sqrt(1+rho) + np.sqrt(1-rho))/2\n",
    "    beta = (np.sqrt(1+rho) - np.sqrt(1-rho))/2\n",
    "    A_rho = [[alpha , beta],[beta , alpha]]\n",
    "    return A_rho@sample\n",
    "def T(X) :\n",
    "    return np.sum(X[0]*X[1])/len(X[0])\n",
    "def T_2(X) :\n",
    "    return np.sum((X[0]-X[1])**2)/len(X[0])/2\n",
    "def get_W(n , criterion , num_samples ,rho_arr) :\n",
    "    W = []\n",
    "    for rho in rho_arr :\n",
    "        count_reject = []\n",
    "        for _ in range(num_samples) :\n",
    "            sample = sample_gen(n)\n",
    "            sample = get_corr_sample(sample , rho)\n",
    "            count_reject.append(criterion(sample))\n",
    "        W.append( sum(count_reject) / num_samples)\n",
    "    return W\n",
    "def crit_1(sample)  :\n",
    "    return np.abs(T(sample)) > 20/n\n",
    "def crit_2(sample) :\n",
    "    return np.abs(T_2(sample)-1) > 1.96*np.sqrt(2)/np.sqrt(n)"
   ]
  },
  {
   "cell_type": "code",
   "execution_count": 3,
   "metadata": {},
   "outputs": [],
   "source": [
    "def get_p_values(num_samples ,rho , n=100 ) :\n",
    "    p_values = []\n",
    "    sigma = np.sqrt((1+rho**2)/n)\n",
    "    for _ in range(num_samples) :\n",
    "        sample = sample_gen(n)\n",
    "        sample = get_corr_sample(sample , rho)\n",
    "        p_values.append(norm.cdf( T(sample) , loc=rho, scale=sigma ))\n",
    "    return p_values    "
   ]
  },
  {
   "cell_type": "code",
   "execution_count": 5,
   "metadata": {},
   "outputs": [],
   "source": [
    "n = 100\n",
    "rho_1  = 0\n",
    "rho_2 = 0.2\n",
    "num_samples = 500\n",
    "\n",
    "p_values_1 = get_p_values(num_samples,rho_1,n)\n",
    "p_values_2 = get_p_values(num_samples,rho_2,n)\n"
   ]
  },
  {
   "cell_type": "code",
   "execution_count": null,
   "metadata": {},
   "outputs": [],
   "source": [
    "def FDR(p_values_1 , )"
   ]
  }
 ],
 "metadata": {
  "kernelspec": {
   "display_name": "gt",
   "language": "python",
   "name": "python3"
  },
  "language_info": {
   "codemirror_mode": {
    "name": "ipython",
    "version": 3
   },
   "file_extension": ".py",
   "mimetype": "text/x-python",
   "name": "python",
   "nbconvert_exporter": "python",
   "pygments_lexer": "ipython3",
   "version": "3.8.16"
  },
  "orig_nbformat": 4
 },
 "nbformat": 4,
 "nbformat_minor": 2
}
