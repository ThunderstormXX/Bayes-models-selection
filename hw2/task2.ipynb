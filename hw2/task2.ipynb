{
 "cells": [
  {
   "cell_type": "code",
   "execution_count": 2,
   "metadata": {},
   "outputs": [],
   "source": [
    "import random\n",
    "import numpy as np\n",
    "from matplotlib import pyplot as plt\n",
    "from scipy.stats import norm\n",
    "import statsmodels.stats.multitest as smt\n",
    "from scipy.stats import t\n"
   ]
  },
  {
   "cell_type": "code",
   "execution_count": 3,
   "metadata": {},
   "outputs": [],
   "source": [
    "def sample_gen( m1 , m2 , sigma1 , mean1 , sigma2 , mean2 ) :\n",
    "\n",
    "    return np.random.normal(mean1, sigma1, m1) , np.random.normal(mean2, sigma2, m2)\n",
    "\n",
    "\n",
    "def T(sample1 , sample2) :\n",
    "    m1 = len(sample1) ; m2 = len(sample2)\n",
    "    x1 = np.mean(sample1) ; x2 = np.mean(sample2)\n",
    "    s = np.sqrt(  (np.sum((sample1 - x1)**2) + np.sum((sample2 - x2)**2 ))/(m1+m2-2) )\n",
    "    return ( x1 - x2 ) / s / np.sqrt(1/m1 + 1/m2)\n",
    "\n",
    "def p_value( sample1 , sample2) :\n",
    "    value = np.abs(T(sample1,sample2)) \n",
    "    return 2* (1 - t.cdf( value , len(sample1) + len(sample2) - 2)) \n",
    "\n",
    "def crit(sample1 , sample2 , alpha=0.05 )  : # соотв alpha = 0.05\n",
    "    b = t.ppf(alpha/2, len(sample1) + len(sample2) - 2 )\n",
    "    return np.abs(T(sample1 , sample2)) > b \n"
   ]
  },
  {
   "cell_type": "code",
   "execution_count": 4,
   "metadata": {},
   "outputs": [],
   "source": [
    "def gen_w(alpha , n) :\n",
    "    return np.random.normal(0, alpha**(-1/2), n)\n",
    "def gen_X(n ,m , sigma) :\n",
    "    # print(m ,n , np.random.normal(0, sigma, n*m).shape) \n",
    "    return np.random.normal(0, sigma, n*m).reshape(n,m).T\n",
    "def gen_y(w,X) :\n",
    "    y = []\n",
    "    for j in range(X.shape[0]) :\n",
    "\n",
    "        p = 1/(1 + np.exp(-np.dot(w,X[j])) )\n",
    "        # print(X[j].shape , w.shape , p.shape , np.random.binomial(n=1, p=p, size=1).shape)\n",
    "        y.append(np.random.binomial(n=1, p=p, size=1)[0])\n",
    "    return np.array(y)\n",
    "\n"
   ]
  },
  {
   "cell_type": "code",
   "execution_count": 5,
   "metadata": {},
   "outputs": [],
   "source": [
    "from sklearn.metrics import roc_auc_score"
   ]
  },
  {
   "attachments": {},
   "cell_type": "markdown",
   "metadata": {},
   "source": [
    "### Случай когда мы знаем w"
   ]
  },
  {
   "cell_type": "code",
   "execution_count": 6,
   "metadata": {},
   "outputs": [
    {
     "name": "stdout",
     "output_type": "stream",
     "text": [
      "(100, 40) (100,)\n"
     ]
    }
   ],
   "source": [
    "alpha = 0.05\n",
    "sigma = 0.5\n",
    "n = 40\n",
    "m1 = 100\n",
    "w = gen_w(alpha , n )\n",
    "X_train = gen_X( n , m1 , sigma)\n",
    "y_train = gen_y(w , X_train)\n",
    "\n",
    "print(X_train.shape , y_train.shape)"
   ]
  },
  {
   "attachments": {},
   "cell_type": "markdown",
   "metadata": {},
   "source": [
    "Как видим ожидание AUC медленно,но стремится к единице при $m_2 \\rightarrow \\inf$"
   ]
  },
  {
   "cell_type": "code",
   "execution_count": 20,
   "metadata": {},
   "outputs": [
    {
     "name": "stdout",
     "output_type": "stream",
     "text": [
      "0.9947561839455659\n",
      "0.9947569683681872\n",
      "0.9947959762960755\n"
     ]
    }
   ],
   "source": [
    "for m2 in [100,1000,10000] :\n",
    "    N_sampling = 100\n",
    "    value = 0\n",
    "    for _ in range(N_sampling) :\n",
    "        X_test = gen_X(n , m2 , sigma)\n",
    "        y_test = gen_y(w , X_test)\n",
    "        # Знаем w :\n",
    "        y_preds = 1 / (1 + np.exp(-X_test@w))\n",
    "        auc_score = roc_auc_score(y_test, y_preds)\n",
    "        value += auc_score\n",
    "    E_auc = value / N_sampling\n",
    "    print(E_auc)    "
   ]
  },
  {
   "attachments": {},
   "cell_type": "markdown",
   "metadata": {},
   "source": [
    "### Пусть теперь мы сгенерили с помощью w , но используем другой независимый w_0"
   ]
  },
  {
   "cell_type": "code",
   "execution_count": 21,
   "metadata": {},
   "outputs": [
    {
     "name": "stdout",
     "output_type": "stream",
     "text": [
      "(100, 40) (100,)\n"
     ]
    }
   ],
   "source": [
    "alpha = 0.05\n",
    "sigma = 0.5\n",
    "n = 40\n",
    "m1 = 100\n",
    "w = gen_w(alpha , n )\n",
    "X_train = gen_X( n , m1 , sigma)\n",
    "y_train = gen_y(w , X_train)\n",
    "print(X_train.shape , y_train.shape)"
   ]
  },
  {
   "attachments": {},
   "cell_type": "markdown",
   "metadata": {},
   "source": [
    "Зависимость E(AUC) от m2"
   ]
  },
  {
   "cell_type": "code",
   "execution_count": 34,
   "metadata": {},
   "outputs": [
    {
     "name": "stdout",
     "output_type": "stream",
     "text": [
      "[ 100  400  700 1000 1300 1600 1900]\n",
      "0.4984700388008266\n",
      "0.4977438729663616\n",
      "0.4996726634105432\n",
      "0.4995323385476005\n",
      "0.49772805442417156\n",
      "0.5001849069263565\n",
      "0.5020726725671554\n"
     ]
    },
    {
     "data": {
      "image/png": "[encoded data removed]",
      "text/plain": [
       "<Figure size 432x288 with 1 Axes>"
      ]
     },
     "metadata": {
      "needs_background": "light"
     },
     "output_type": "display_data"
    }
   ],
   "source": [
    "E_auc = []\n",
    "m_arr = np.arange(100,2000,300)\n",
    "print(m_arr)\n",
    "for m2 in  m_arr :\n",
    "    N_sampling = 1000\n",
    "    value = 0\n",
    "    for _ in range(N_sampling) :\n",
    "        X_test = gen_X(n , m2 , sigma)\n",
    "        y_test = gen_y(w , X_test)\n",
    "        w_0 = gen_w(alpha , n )\n",
    "        y_preds = 1 / (1 + np.exp(-X_test@w_0))\n",
    "        auc_score = roc_auc_score(y_test, y_preds)\n",
    "        value += auc_score\n",
    "    E_auc.append(value / N_sampling)\n",
    "    print(E_auc[-1])    \n",
    "\n",
    "plt.plot(m_arr,E_auc)\n",
    "plt.show()"
   ]
  },
  {
   "attachments": {},
   "cell_type": "markdown",
   "metadata": {},
   "source": [
    "Как видим в среднем AUC стремится к 0.5"
   ]
  },
  {
   "cell_type": "code",
   "execution_count": null,
   "metadata": {},
   "outputs": [],
   "source": []
  }
 ],
 "metadata": {
  "kernelspec": {
   "display_name": "gt",
   "language": "python",
   "name": "python3"
  },
  "language_info": {
   "codemirror_mode": {
    "name": "ipython",
    "version": 3
   },
   "file_extension": ".py",
   "mimetype": "text/x-python",
   "name": "python",
   "nbconvert_exporter": "python",
   "pygments_lexer": "ipython3",
   "version": "3.9.12"
  },
  "orig_nbformat": 4
 },
 "nbformat": 4,
 "nbformat_minor": 2
}
