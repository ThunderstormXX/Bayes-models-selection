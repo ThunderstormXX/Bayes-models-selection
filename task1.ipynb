{
 "cells": [
  {
   "cell_type": "code",
   "execution_count": 22,
   "metadata": {},
   "outputs": [],
   "source": [
    "import random\n",
    "import numpy as np\n",
    "from matplotlib import pyplot as plt"
   ]
  },
  {
   "cell_type": "code",
   "execution_count": 48,
   "metadata": {},
   "outputs": [
    {
     "name": "stdout",
     "output_type": "stream",
     "text": [
      "100\n",
      "200\n",
      "300\n",
      "400\n",
      "500\n",
      "600\n",
      "700\n",
      "800\n",
      "900\n",
      "1000\n"
     ]
    },
    {
     "data": {
      "image/png": "[encoded data removed]",
      "text/plain": [
       "<Figure size 640x480 with 1 Axes>"
      ]
     },
     "metadata": {},
     "output_type": "display_data"
    }
   ],
   "source": [
    "\n",
    "probability_of_one = 0.0001\n",
    "p_1 = 0.5\n",
    "p_2 = 0.9\n",
    "count_people = 100\n",
    "k_list = [100 ,200 ,300,400,500,600,700,800,900,1000]\n",
    "# k_list = np.arange(20,100 ,20)\n",
    "prob_is_orakul = np.zeros(len(k_list))\n",
    "len_sampling = count_people*10\n",
    "\n",
    "for id,k in enumerate(k_list) :\n",
    "    print(k)\n",
    "    for id_sample in range(len_sampling) :\n",
    "        sample = [1 if random.random() < probability_of_one else 0 for _ in range(count_people)]\n",
    "        competitions = np.zeros(len(sample))\n",
    "        for i , is_orakul in enumerate(sample) :\n",
    "            for j in range(k) :\n",
    "                if is_orakul :\n",
    "                    competitions[i] = competitions[i] + (1 if random.random() < p_2 else 0)\n",
    "                else :\n",
    "                    competitions[i] = competitions[i] + (1 if random.random() < p_1 else 0)\n",
    "        top = np.argmax(competitions)\n",
    "        if sample[top] :\n",
    "            prob_is_orakul[id] = prob_is_orakul[id] + 1\n",
    "        prob_is_orakul[id] = prob_is_orakul[id]\n",
    "    prob_is_orakul[id] = prob_is_orakul[id]/len_sampling\n",
    "\n",
    "plt.plot(k_list , prob_is_orakul, '.')\n",
    "plt.show()"
   ]
  },
  {
   "cell_type": "code",
   "execution_count": 102,
   "metadata": {},
   "outputs": [],
   "source": [
    "A = np.array([[1,2,3],[4,5,7],[6,16,1]])\n",
    "B = np.array([[1,6,3],[4,5,2],[2,11,1]])\n",
    "C = np.array([[2,6,3],[1,5,2],[6,7,1]])\n",
    "D = np.array([[4,12,3],[1,2,1],[2,7,1]])\n",
    "v = np.array([1,5,8])"
   ]
  },
  {
   "cell_type": "code",
   "execution_count": 116,
   "metadata": {},
   "outputs": [
    {
     "name": "stdout",
     "output_type": "stream",
     "text": [
      "24076\n",
      "24076\n",
      "24076\n",
      "24076\n"
     ]
    }
   ],
   "source": [
    "print(np.sum((A@B)*(C@D)))\n",
    "print(np.sum((A@B@D.T)*C))\n",
    "print(np.sum((A@B)*(C@D)))\n",
    "print(np.sum((C.T@A@B)*D))"
   ]
  },
  {
   "cell_type": "code",
   "execution_count": 128,
   "metadata": {},
   "outputs": [
    {
     "name": "stdout",
     "output_type": "stream",
     "text": [
      "[[ 499  790  748]\n",
      " [1098 1685 1685]\n",
      " [ 433  770  571]]\n",
      "[[ 599 1315  432]\n",
      " [1372 2760  981]\n",
      " [ 383 1156  284]]\n"
     ]
    }
   ],
   "source": [
    "print(A.T@B@A)\n",
    "print((A@A)@B)"
   ]
  },
  {
   "cell_type": "code",
   "execution_count": 86,
   "metadata": {},
   "outputs": [
    {
     "name": "stdout",
     "output_type": "stream",
     "text": [
      "192\n",
      "192\n",
      "192\n",
      "192\n"
     ]
    }
   ],
   "source": [
    "print(np.trace(A@B))\n",
    "print(np.sum(A.T*B))\n",
    "print(np.sum(B.T*A))\n",
    "print(np.trace(B@A))"
   ]
  },
  {
   "cell_type": "code",
   "execution_count": 62,
   "metadata": {},
   "outputs": [
    {
     "name": "stdout",
     "output_type": "stream",
     "text": [
      "[[  89  218   47]\n",
      " [ 464 2133  262]\n",
      " [  67  135   56]]\n"
     ]
    }
   ],
   "source": [
    "print(A.T*B.T@B)\n",
    "# print((B@B)*A.T)"
   ]
  },
  {
   "cell_type": "code",
   "execution_count": 60,
   "metadata": {},
   "outputs": [
    {
     "name": "stdout",
     "output_type": "stream",
     "text": [
      "[[31 69 18]\n",
      " [28 71 24]\n",
      " [48 78 29]]\n"
     ]
    }
   ],
   "source": [
    "print(B@B)"
   ]
  },
  {
   "cell_type": "code",
   "execution_count": 87,
   "metadata": {},
   "outputs": [],
   "source": [
    "X = np.array([[1,2,3],[4,5,7],[6,16,1]])\n",
    "A = np.array([[1,6,3],[4,5,2],[2,11,1]])\n",
    "X_1 = np.linalg.inv(X)"
   ]
  },
  {
   "cell_type": "code",
   "execution_count": 88,
   "metadata": {},
   "outputs": [],
   "source": [
    "Y = X_1+A\n",
    "det_Y = np.linalg.det(Y)\n",
    "Y_1 = np.linalg.inv(Y)"
   ]
  },
  {
   "cell_type": "code",
   "execution_count": 89,
   "metadata": {},
   "outputs": [
    {
     "data": {
      "text/plain": [
       "array([[47.25882971,  0.89184183, -2.55158405],\n",
       "       [23.70549103,  3.15586836,  0.6030326 ],\n",
       "       [-0.34797478, -4.75868023, -0.29068679]])"
      ]
     },
     "execution_count": 89,
     "metadata": {},
     "output_type": "execute_result"
    }
   ],
   "source": [
    "-det_Y*Y_1.T*(X_1@X_1)"
   ]
  },
  {
   "cell_type": "code",
   "execution_count": 91,
   "metadata": {},
   "outputs": [
    {
     "data": {
      "text/plain": [
       "array([[ 60.12239635, -17.35846062, -22.18210672],\n",
       "       [-27.85201349,   8.52767308,   9.59888911],\n",
       "       [  4.00535608,  -1.59016068,  -0.98393176]])"
      ]
     },
     "execution_count": 91,
     "metadata": {},
     "output_type": "execute_result"
    }
   ],
   "source": [
    "-det_Y*X_1.T@Y_1.T@X_1.T"
   ]
  },
  {
   "cell_type": "code",
   "execution_count": null,
   "metadata": {},
   "outputs": [],
   "source": []
  }
 ],
 "metadata": {
  "kernelspec": {
   "display_name": "gt",
   "language": "python",
   "name": "python3"
  },
  "language_info": {
   "codemirror_mode": {
    "name": "ipython",
    "version": 3
   },
   "file_extension": ".py",
   "mimetype": "text/x-python",
   "name": "python",
   "nbconvert_exporter": "python",
   "pygments_lexer": "ipython3",
   "version": "3.8.16"
  },
  "orig_nbformat": 4
 },
 "nbformat": 4,
 "nbformat_minor": 2
}
