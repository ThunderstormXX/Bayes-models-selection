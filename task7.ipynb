{
 "cells": [
  {
   "cell_type": "code",
   "execution_count": 3,
   "metadata": {},
   "outputs": [],
   "source": [
    "import random\n",
    "import numpy as np\n",
    "from matplotlib import pyplot as plt\n",
    "from scipy.stats import norm\n",
    "import statsmodels.stats.multitest as smt"
   ]
  },
  {
   "cell_type": "code",
   "execution_count": 4,
   "metadata": {},
   "outputs": [],
   "source": [
    "def sample_gen(n ) :\n",
    "    arr = []\n",
    "    for j in range(n) :\n",
    "        arr.append([np.random.normal(0,1.0) , np.random.normal(0,1.0)])\n",
    "    return np.array(arr).T\n",
    "def get_corr_sample(sample , rho) :\n",
    "    alpha = (np.sqrt(1+rho) + np.sqrt(1-rho))/2\n",
    "    beta = (np.sqrt(1+rho) - np.sqrt(1-rho))/2\n",
    "    A_rho = [[alpha , beta],[beta , alpha]]\n",
    "    return A_rho@sample\n",
    "def T(X) :\n",
    "    return np.sum(X[0]*X[1])/len(X[0])\n",
    "def T_2(X) :\n",
    "    return np.sum((X[0]-X[1])**2)/len(X[0])/2\n",
    "def get_W(n , criterion , num_samples ,rho_arr) :\n",
    "    W = []\n",
    "    for rho in rho_arr :\n",
    "        count_reject = []\n",
    "        for _ in range(num_samples) :\n",
    "            sample = sample_gen(n)\n",
    "            sample = get_corr_sample(sample , rho)\n",
    "            count_reject.append(criterion(sample))\n",
    "        W.append( sum(count_reject) / num_samples)\n",
    "    return W\n",
    "def crit_1(sample)  :\n",
    "    return np.abs(T(sample)) > 20/n\n",
    "def crit_2(sample) :\n",
    "    return np.abs(T_2(sample)-1) > 1.96*np.sqrt(2)/np.sqrt(n)\n",
    "def crit_1_by_alpha(sample , alpha ) :\n",
    "    return np.abs(T(sample)) > 1/(len(sample) * alpha)"
   ]
  },
  {
   "cell_type": "code",
   "execution_count": 9,
   "metadata": {},
   "outputs": [],
   "source": [
    "def get_p_values(num_samples , n=100 ) :\n",
    "    p_values = []\n",
    "    sigma = np.sqrt(1/n)\n",
    "    is_zero_rho = []\n",
    "    sample = sample_gen(n)\n",
    "    sample = get_corr_sample(sample , 0 )\n",
    "    stat = np.abs(T(sample))\n",
    "    left = norm.cdf( -stat , loc=0, scale=sigma )\n",
    "    p_values.append(2*left)\n",
    "    is_zero_rho.append(0)\n",
    "    rho = 0\n",
    "    for _ in range(1,num_samples) :\n",
    "        z = np.random.binomial(1, 0.3, size=1)\n",
    "        if z :\n",
    "            rho = rho\n",
    "        else :\n",
    "            rho = 0.2 - rho\n",
    "        sample = sample_gen(n)\n",
    "        sample = get_corr_sample(sample , rho)\n",
    "        stat = np.abs(T(sample))\n",
    "        left = norm.cdf( -stat , loc=0, scale=sigma )\n",
    "        p_values.append(2*left)\n",
    "        is_zero_rho.append(0 if rho == 0 else 1)\n",
    "    return np.array(p_values)  , np.array(is_zero_rho)"
   ]
  },
  {
   "cell_type": "code",
   "execution_count": 13,
   "metadata": {},
   "outputs": [],
   "source": [
    "n = 100\n",
    "num_samples = 1000\n"
   ]
  },
  {
   "attachments": {},
   "cell_type": "markdown",
   "metadata": {},
   "source": [
    "FWER без поправок"
   ]
  },
  {
   "cell_type": "code",
   "execution_count": 12,
   "metadata": {},
   "outputs": [
    {
     "name": "stdout",
     "output_type": "stream",
     "text": [
      "1.0\n"
     ]
    }
   ],
   "source": [
    "N_sampling = 100\n",
    "counter = 0\n",
    "for j in range(N_sampling) :\n",
    "    p_value , is_zero = get_p_values(num_samples,n)\n",
    "    counter += np.sum(p_value*is_zero < 0.05 ) > 0 \n",
    "\n",
    "print(counter /N_sampling)"
   ]
  },
  {
   "attachments": {},
   "cell_type": "markdown",
   "metadata": {},
   "source": [
    "FWER  с поправкой"
   ]
  },
  {
   "cell_type": "code",
   "execution_count": 14,
   "metadata": {},
   "outputs": [
    {
     "name": "stdout",
     "output_type": "stream",
     "text": [
      "1.0\n"
     ]
    }
   ],
   "source": [
    "N_sampling = 100\n",
    "counter = 0\n",
    "for j in range(N_sampling) :\n",
    "    p_value , is_zero = get_p_values(num_samples,n)\n",
    "    new_p_value = p_value*is_zero*1000\n",
    "    counter += np.sum(new_p_value< 0.05 ) > 0\n",
    "\n",
    "print(counter /N_sampling) "
   ]
  },
  {
   "attachments": {},
   "cell_type": "markdown",
   "metadata": {},
   "source": [
    "FDR без поправки"
   ]
  },
  {
   "cell_type": "code",
   "execution_count": null,
   "metadata": {},
   "outputs": [],
   "source": [
    "N_sampling = 100\n",
    "value = 0\n",
    "for j in range(N_sampling) :\n",
    "    p_value , is_zero = get_p_values(num_samples,n)\n",
    "    \n",
    "    cnt_1 = np.sum( p_values_1 < 0.05 )\n",
    "    cnt_2 = cnt_1 + np.sum( p_values_2 < 0.05)\n",
    "    if cnt_2 != 0 :\n",
    "        value += cnt_1/cnt_2\n",
    "\n",
    "print( value/N_sampling) "
   ]
  }
 ],
 "metadata": {
  "kernelspec": {
   "display_name": "gt",
   "language": "python",
   "name": "python3"
  },
  "language_info": {
   "codemirror_mode": {
    "name": "ipython",
    "version": 3
   },
   "file_extension": ".py",
   "mimetype": "text/x-python",
   "name": "python",
   "nbconvert_exporter": "python",
   "pygments_lexer": "ipython3",
   "version": "3.8.16"
  },
  "orig_nbformat": 4
 },
 "nbformat": 4,
 "nbformat_minor": 2
}
